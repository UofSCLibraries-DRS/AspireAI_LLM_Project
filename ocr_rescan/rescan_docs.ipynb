{
 "cells": [
  {
   "cell_type": "code",
   "execution_count": 51,
   "id": "546019d8",
   "metadata": {},
   "outputs": [],
   "source": [
    "import requests"
   ]
  },
  {
   "cell_type": "code",
   "execution_count": null,
   "id": "6c23d68c",
   "metadata": {},
   "outputs": [
    {
     "name": "stdout",
     "output_type": "stream",
     "text": [
      "Fetching manifest: https://cdm17173.contentdm.oclc.org/iiif/info/p17173coll1/1234/manifest.json\n",
      "Downloading page 1: https://cdm17173.contentdm.oclc.org/iiif/2/p17173coll1:1234/full/pct:100/0/default.jpg\n",
      "Saved: documents/p17173coll1_1234_page1.jpg\n"
     ]
    }
   ],
   "source": [
    "base_url= 'https://cdm17173.contentdm.oclc.org'\n",
    "collection = 'p17173coll38'\n",
    "\n",
    "def download_contentdm_image(base_url, collection, item_id, output_path):\n",
    "    # Build manifest URL\n",
    "    manifest_url = f\"{base_url}/iiif/info/{collection}/{item_id}/manifest.json\"\n",
    "    print(\"Fetching manifest:\", manifest_url)\n",
    "\n",
    "    manifest = requests.get(manifest_url).json()\n",
    "\n",
    "    # Each \"canvas\" is an image/page\n",
    "    canvases = manifest[\"sequences\"][0][\"canvases\"]\n",
    "\n",
    "    for i, canvas in enumerate(canvases, start=1):\n",
    "        # The IIIF image service ID is inside the \"images\" block\n",
    "        service_id = canvas[\"images\"][0][\"resource\"][\"service\"][\"@id\"]\n",
    "\n",
    "        # Request the full image (100% size)\n",
    "        img_url = f\"{service_id}/full/pct:100/0/default.jpg\"\n",
    "        print(f\"Downloading page {i}: {img_url}\")\n",
    "\n",
    "        img_data = requests.get(img_url).content\n",
    "        filename = f\"output_path/collection/{collection}_{item_id}_page{i}.jpg\"\n",
    "        with open(filename, \"wb\") as f:\n",
    "            f.write(img_data)\n",
    "        print(\"Saved:\", filename)\n",
    "\n",
    "\n",
    "# Example usage\n",
    "download_contentdm_image(\n",
    "    base_url=\"https://cdm17173.contentdm.oclc.org\",\n",
    "    collection=\"p17173coll1\",\n",
    "    item_id=\"1234\",\n",
    "    ouput_path=\"documents\"\n",
    ")\n"
   ]
  },
  {
   "cell_type": "code",
   "execution_count": null,
   "id": "4f39f49e",
   "metadata": {},
   "outputs": [
    {
     "data": {
      "text/plain": [
       "['http://cdm17173.contentdm.oclc.org/0/default.jpg',\n",
       " 'http://cdm17173.contentdm.oclc.org/default.jpg']"
      ]
     },
     "execution_count": 43,
     "metadata": {},
     "output_type": "execute_result"
    }
   ],
   "source": []
  },
  {
   "cell_type": "code",
   "execution_count": null,
   "id": "b66d4a72",
   "metadata": {},
   "outputs": [
    {
     "name": "stdout",
     "output_type": "stream",
     "text": [
      "Found JPG: http://cdm17173.contentdm.oclc.org/0/default.jpg\n",
      "Saved default.jpg\n"
     ]
    }
   ],
   "source": []
  },
  {
   "cell_type": "code",
   "execution_count": null,
   "id": "18a29665",
   "metadata": {},
   "outputs": [],
   "source": []
  }
 ],
 "metadata": {
  "kernelspec": {
   "display_name": "Python (venv_aspire)",
   "language": "python",
   "name": "venv_aspire"
  },
  "language_info": {
   "codemirror_mode": {
    "name": "ipython",
    "version": 3
   },
   "file_extension": ".py",
   "mimetype": "text/x-python",
   "name": "python",
   "nbconvert_exporter": "python",
   "pygments_lexer": "ipython3",
   "version": "3.12.3"
  }
 },
 "nbformat": 4,
 "nbformat_minor": 5
}
