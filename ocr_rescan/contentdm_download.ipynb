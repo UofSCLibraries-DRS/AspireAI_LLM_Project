{
 "cells": [
  {
   "cell_type": "markdown",
   "id": "e7bef3c2",
   "metadata": {},
   "source": [
    "# Download items from contentdm collection"
   ]
  },
  {
   "cell_type": "code",
   "execution_count": null,
   "id": "9605a366",
   "metadata": {},
   "outputs": [],
   "source": [
    "import requests\n",
    "import pandas as pd"
   ]
  },
  {
   "cell_type": "code",
   "execution_count": null,
   "id": "6978d7b3",
   "metadata": {},
   "outputs": [],
   "source": [
    "base_url= 'https://cdm17173.contentdm.oclc.org'\n",
    "collection = 'p17173coll38'\n",
    "# item_id = df['']\n",
    "\n",
    "def download_contentdm_image(base_url, collection, item_id, output_path):\n",
    "    # Build manifest URL\n",
    "    manifest_url = f\"{base_url}/iiif/info/{collection}/{item_id}/manifest.json\"\n",
    "    print(\"Fetching manifest:\", manifest_url)\n",
    "\n",
    "    manifest = requests.get(manifest_url).json()\n",
    "\n",
    "    # Each \"canvas\" is an image/page\n",
    "    canvases = manifest[\"sequences\"][0][\"canvases\"]\n",
    "\n",
    "    for i, canvas in enumerate(canvases, start=1):\n",
    "        # The IIIF image service ID is inside the \"images\" block\n",
    "        service_id = canvas[\"images\"][0][\"resource\"][\"service\"][\"@id\"]\n",
    "\n",
    "        # Request the full image (100% size)\n",
    "        img_url = f\"{service_id}/full/pct:100/0/default.jpg\"\n",
    "        print(f\"Downloading page {i}: {img_url}\")\n",
    "\n",
    "        img_data = requests.get(img_url).content\n",
    "        filename = f\"output_path/collection/{collection}_{item_id}_page{i}.jpg\"\n",
    "        with open(filename, \"wb\") as f:\n",
    "            f.write(img_data)\n",
    "        print(\"Saved:\", filename)\n",
    "\n",
    "\n",
    "# Example usage\n",
    "download_contentdm_image(\n",
    "    base_url=\"https://cdm17173.contentdm.oclc.org\",\n",
    "    collection=\"p17173coll1\",\n",
    "    item_id=\"1234\",\n",
    "    ouput_path=\"documents\"\n",
    ")\n"
   ]
  }
 ],
 "metadata": {
  "kernelspec": {
   "display_name": "Python (venv_aspire)",
   "language": "python",
   "name": "venv_aspire"
  },
  "language_info": {
   "codemirror_mode": {
    "name": "ipython",
    "version": 3
   },
   "file_extension": ".py",
   "mimetype": "text/x-python",
   "name": "python",
   "nbconvert_exporter": "python",
   "pygments_lexer": "ipython3",
   "version": "3.12.3"
  }
 },
 "nbformat": 4,
 "nbformat_minor": 5
}
