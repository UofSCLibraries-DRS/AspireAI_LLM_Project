{
 "cells": [
  {
   "cell_type": "markdown",
   "id": "dcc877da",
   "metadata": {},
   "source": [
    "## llm-tuning/tiny-test.py\n",
    "#### Code modified from source: https://huggingface.co/TinyLlama/TinyLlama-1.1B-Chat-v1.0"
   ]
  },
  {
   "cell_type": "code",
   "execution_count": null,
   "id": "b0360724",
   "metadata": {},
   "outputs": [],
   "source": [
    "import torch\n",
    "from transformers import pipeline\n",
    "import pandas as pd"
   ]
  },
  {
   "cell_type": "code",
   "execution_count": 4,
   "id": "da6d51b1",
   "metadata": {},
   "outputs": [
    {
     "name": "stderr",
     "output_type": "stream",
     "text": [
      "Device set to use cpu\n"
     ]
    }
   ],
   "source": [
    "# Load the model\n",
    "pipe = pipeline(\"text-generation\", model=\"TinyLlama/TinyLlama-1.1B-Chat-v1.0\", torch_dtype=torch.bfloat16, device_map=\"auto\")"
   ]
  },
  {
   "cell_type": "code",
   "execution_count": null,
   "id": "5b96a69b",
   "metadata": {},
   "outputs": [
    {
     "name": "stdout",
     "output_type": "stream",
     "text": [
      "LLM input:\n",
      "{'role': 'system', 'content': 'You are a virtual assistant that takes a special interest providing the useful, accurate information, whilst avoiding repetition in your responses. Make it clear to the user if you do not have the infomation needed to respond to the question in full or at all.'}\n",
      "{'role': 'user', 'content': \"Can you clean this data? JΓÇöΓÇöΓÇöΓÇöΓÇöΓÇöc    Class of Service    This is a full'rate  Telegram or Cable┬¼  gram unless its de┬¼  ferred character is in┬¼  dicated by a suitable  symbol above or pre┬¼  ceding the address.    S _ r    WESTERN    UNION .    JOSEPH l_. EGAN  PRESIDENT    The filing time shown in the date line on telegrams and day letters is STANDARD TIME at point of origin. Time of receipt is STANDARD TIME at point of destination    CMA117 PD=U WASHINGTON DC 7 1?7P  LIGHTHOUSE AND INFORMER NEWSPAPER,  h OSS 1/S WASHINGTON ST CL MBA'    ^7 MAR 7 PM 2 36    NR EARGLE OF GREENVILLE AND MYSELF WILL BE AT YOUR OFFICE  1 1 AM SATURDAY┬¼    'S ILL IE S BROWN-.    1 1 AM-.    THE COMPANY WILL APPRECIATE SUGGESTIONS FROM ITS PATRONS CONCERNING ITS SERVICE\"}\n",
      "\n"
     ]
    }
   ],
   "source": [
    "# Set input; style of llm (system) and prompt (user)\n",
    "# Dev note: \"We use the tokenizer's chat template to format each message\"\n",
    "\n",
    "messages = [\n",
    "    {\n",
    "        \"role\": \"system\",\n",
    "        \"content\": \"Clean text mistakes in the OCR scanned text documents. A common error may be a 't' scanned as a '┬', but it may not always be a 't'. Same with '.' somtimes becoming a '*'. \"\n",
    "        \"You know there are instances where there are simply artifacts obcurring the document, and therefore it may not be this case all the time. \"\n",
    "        \"Fix this text: \"\n",
    "    },\n",
    "    {\n",
    "        \"role\": \"user\", \n",
    "        \"content\": \"JΓÇöΓÇöΓÇöΓÇöΓÇöΓÇöc    Class of Service    This is a full'rate  Telegram or Cable┬¼  gram unless its de┬¼  ferred character is in┬¼  dicated by a suitable  symbol above or pre┬¼  ceding the address.    S _ r    WESTERN    UNION .    JOSEPH l_. EGAN  PRESIDENT    The filing time shown in the date line on telegrams and day letters is STANDARD TIME at point of origin. Time of receipt is STANDARD TIME at point of destination    CMA117 PD=U WASHINGTON DC 7 1?7P  LIGHTHOUSE AND INFORMER NEWSPAPER,  h OSS 1/S WASHINGTON ST CL MBA'    ^7 MAR 7 PM 2 36    NR EARGLE OF GREENVILLE AND MYSELF WILL BE AT YOUR OFFICE  1 1 AM SATURDAY┬¼    'S ILL IE S BROWN-.    1 1 AM-.    THE COMPANY WILL APPRECIATE SUGGESTIONS FROM ITS PATRONS CONCERNING ITS SERVICE\"\n",
    "    },\n",
    "]\n",
    "\n",
    "# Print input for reference \n",
    "print(\"LLM input:\")\n",
    "for message in messages:\n",
    "    print(message)\n",
    "print()"
   ]
  },
  {
   "cell_type": "code",
   "execution_count": 63,
   "id": "50b71ea7",
   "metadata": {},
   "outputs": [
    {
     "name": "stdout",
     "output_type": "stream",
     "text": [
      "<|system|>\n",
      "You are a virtual assistant that takes a special interest providing the useful, accurate information, whilst avoiding repetition in your responses. Make it clear to the user if you do not have the infomation needed to respond to the question in full or at all.</s>\n",
      "<|user|>\n",
      "Can you clean this data? JΓÇöΓÇöΓÇöΓÇöΓÇöΓÇöc    Class of Service    This is a full'rate  Telegram or Cable┬¼  gram unless its de┬¼  ferred character is in┬¼  dicated by a suitable  symbol above or pre┬¼  ceding the address.    S _ r    WESTERN    UNION .    JOSEPH l_. EGAN  PRESIDENT    The filing time shown in the date line on telegrams and day letters is STANDARD TIME at point of origin. Time of receipt is STANDARD TIME at point of destination    CMA117 PD=U WASHINGTON DC 7 1?7P  LIGHTHOUSE AND INFORMER NEWSPAPER,  h OSS 1/S WASHINGTON ST CL MBA'    ^7 MAR 7 PM 2 36    NR EARGLE OF GREENVILLE AND MYSELF WILL BE AT YOUR OFFICE  1 1 AM SATURDAY┬¼    'S ILL IE S BROWN-.    1 1 AM-.    THE COMPANY WILL APPRECIATE SUGGESTIONS FROM ITS PATRONS CONCERNING ITS SERVICE</s>\n",
      "<|assistant|>\n",
      "Cleaned Data:\n",
      "\n",
      "Class of Service: Full rate Telegram or Cable\n",
      "\n",
      "Weather: Standard Time at point of origin\n",
      "\n",
      "Filing time: 23:45 on Thursday\n",
      "\n",
      "Time of receipt: Standard Time at point of destination\n",
      "\n",
      "Date: 1 March 1937\n",
      "\n",
      "Time: 11 AM\n",
      "\n",
      "Office location: 11 AM\n",
      "\n",
      "Date: Saturday\n",
      "\n",
      "Time: 11 AM\n",
      "\n",
      "Patron suggestions: The Company appreciates suggestions from its patrons concerning its service.\n"
     ]
    }
   ],
   "source": [
    "# LLM Output\n",
    "prompt = pipe.tokenizer.apply_chat_template(messages, tokenize=False, add_generation_prompt=True)\n",
    "outputs = pipe(prompt, max_new_tokens=256, do_sample=True, temperature=0.7, top_k=50, top_p=0.95)\n",
    "print(outputs[0][\"generated_text\"])\n"
   ]
  },
  {
   "cell_type": "code",
   "execution_count": null,
   "id": "f5c3f54f",
   "metadata": {},
   "outputs": [],
   "source": []
  }
 ],
 "metadata": {
  "kernelspec": {
   "display_name": "venv-ipynb",
   "language": "python",
   "name": "python3"
  },
  "language_info": {
   "codemirror_mode": {
    "name": "ipython",
    "version": 3
   },
   "file_extension": ".py",
   "mimetype": "text/x-python",
   "name": "python",
   "nbconvert_exporter": "python",
   "pygments_lexer": "ipython3",
   "version": "3.12.3"
  }
 },
 "nbformat": 4,
 "nbformat_minor": 5
}
