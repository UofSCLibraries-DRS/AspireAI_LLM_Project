{
 "cells": [
  {
   "cell_type": "markdown",
   "id": "905ce38b",
   "metadata": {},
   "source": [
    "# Transcript selection"
   ]
  },
  {
   "cell_type": "code",
   "execution_count": 2,
   "id": "d651342a",
   "metadata": {},
   "outputs": [],
   "source": [
    "start_year = 1940\n",
    "end_year = 1950"
   ]
  },
  {
   "cell_type": "code",
   "execution_count": null,
   "id": "521050e9",
   "metadata": {},
   "outputs": [],
   "source": []
  }
 ],
 "metadata": {
  "kernelspec": {
   "display_name": "Python (venv_aspire)",
   "language": "python",
   "name": "venv_aspire"
  },
  "language_info": {
   "codemirror_mode": {
    "name": "ipython",
    "version": 3
   },
   "file_extension": ".py",
   "mimetype": "text/x-python",
   "name": "python",
   "nbconvert_exporter": "python",
   "pygments_lexer": "ipython3",
   "version": "3.12.3"
  }
 },
 "nbformat": 4,
 "nbformat_minor": 5
}
