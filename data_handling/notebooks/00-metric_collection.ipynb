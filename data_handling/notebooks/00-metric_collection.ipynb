{
 "cells": [
  {
   "cell_type": "markdown",
   "id": "a6f930f6",
   "metadata": {},
   "source": [
    "# Collecting Metrics / Counts on McCray Metadata"
   ]
  },
  {
   "cell_type": "code",
   "execution_count": null,
   "id": "414d8d7d",
   "metadata": {},
   "outputs": [],
   "source": [
    "import pandas as pd\n"
   ]
  },
  {
   "cell_type": "code",
   "execution_count": null,
   "id": "a1622e8a",
   "metadata": {},
   "outputs": [
    {
     "name": "stdout",
     "output_type": "stream",
     "text": [
      "['Title', 'Creator', 'Contributors', 'Date', 'Approximate Date', 'Source', 'Subject', 'Local Subject', 'S.C. County', 'Description', 'Extent', 'Digital Collection', 'Website', 'Contributing Institution', 'Rights', 'Time Period', 'Geographic Location', 'Language', 'Digitization Specifications', 'Date Digital', 'Type', 'Format', 'Media Type', 'Identifier', 'Note', 'Digital Assistant', 'Transcript', 'OCLC number', 'Date created', 'Date modified', 'Reference URL', 'CONTENTdm number', 'CONTENTdm file name', 'CONTENTdm file path'] \n",
      "\n",
      "Title\n",
      "Creator\n",
      "Contributors\n",
      "Date\n",
      "Approximate Date\n",
      "Source\n",
      "Subject\n",
      "Local Subject\n",
      "S.C. County\n",
      "Description\n",
      "Extent\n",
      "Digital Collection\n",
      "Website\n",
      "Contributing Institution\n",
      "Rights\n",
      "Time Period\n",
      "Geographic Location\n",
      "Language\n",
      "Digitization Specifications\n",
      "Date Digital\n",
      "Type\n",
      "Format\n",
      "Media Type\n",
      "Identifier\n",
      "Note\n",
      "Digital Assistant\n",
      "Transcript\n",
      "OCLC number\n",
      "Date created\n",
      "Date modified\n",
      "Reference URL\n",
      "CONTENTdm number\n",
      "CONTENTdm file name\n",
      "CONTENTdm file path\n"
     ]
    }
   ],
   "source": [
    "# Load original metadata & print it's fields\n",
    "mccray = pd.read_excel(r\"data/original_data/McCray metadata.xlsx\")\n",
    "print(list(mccray), \"\\n\")\n",
    "\n",
    "for field in mccray:\n",
    "    print(field)"
   ]
  },
  {
   "cell_type": "code",
   "execution_count": null,
   "id": "fccbeabd",
   "metadata": {},
   "outputs": [],
   "source": []
  }
 ],
 "metadata": {
  "kernelspec": {
   "display_name": "Python (venv_aspire)",
   "language": "python",
   "name": "venv_aspire"
  },
  "language_info": {
   "codemirror_mode": {
    "name": "ipython",
    "version": 3
   },
   "file_extension": ".py",
   "mimetype": "text/x-python",
   "name": "python",
   "nbconvert_exporter": "python",
   "pygments_lexer": "ipython3",
   "version": "3.12.3"
  }
 },
 "nbformat": 4,
 "nbformat_minor": 5
}
