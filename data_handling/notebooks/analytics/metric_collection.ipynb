{
 "cells": [
  {
   "cell_type": "markdown",
   "id": "a6f930f6",
   "metadata": {},
   "source": [
    "# Collecting Metrics / Counts on McCray Metadata"
   ]
  },
  {
   "cell_type": "code",
   "execution_count": null,
   "id": "414d8d7d",
   "metadata": {},
   "outputs": [],
   "source": [
    "import pandas as pd"
   ]
  },
  {
   "cell_type": "code",
   "execution_count": null,
   "id": "a1622e8a",
   "metadata": {},
   "outputs": [
    {
     "name": "stdout",
     "output_type": "stream",
     "text": [
      "['Title', 'Creator', 'Contributors', 'Date', 'Approximate Date', 'Source', 'Subject', 'Local Subject', 'S.C. County', 'Description', 'Extent', 'Digital Collection', 'Website', 'Contributing Institution', 'Rights', 'Time Period', 'Geographic Location', 'Language', 'Digitization Specifications', 'Date Digital', 'Type', 'Format', 'Media Type', 'Identifier', 'Note', 'Digital Assistant', 'Transcript', 'OCLC number', 'Date created', 'Date modified', 'Reference URL', 'CONTENTdm number', 'CONTENTdm file name', 'CONTENTdm file path'] \n",
      "\n",
      "Title\n",
      "Creator\n",
      "Contributors\n",
      "Date\n",
      "Approximate Date\n",
      "Source\n",
      "Subject\n",
      "Local Subject\n",
      "S.C. County\n",
      "Description\n",
      "Extent\n",
      "Digital Collection\n",
      "Website\n",
      "Contributing Institution\n",
      "Rights\n",
      "Time Period\n",
      "Geographic Location\n",
      "Language\n",
      "Digitization Specifications\n",
      "Date Digital\n",
      "Type\n",
      "Format\n",
      "Media Type\n",
      "Identifier\n",
      "Note\n",
      "Digital Assistant\n",
      "Transcript\n",
      "OCLC number\n",
      "Date created\n",
      "Date modified\n",
      "Reference URL\n",
      "CONTENTdm number\n",
      "CONTENTdm file name\n",
      "CONTENTdm file path\n"
     ]
    }
   ],
   "source": [
    "# Load original metadata & print it's fields\n",
    "mccray = pd.read_excel(Paths.mccray_original_metadata)\n",
    "print(list(mccray), \"\\n\")\n",
    "\n",
    "mccray_map = map(mccray, mccray)\n",
    "\n",
    "for field in mccray:\n",
    "    print(field)"
   ]
  },
  {
   "cell_type": "code",
   "execution_count": null,
   "id": "fccbeabd",
   "metadata": {},
   "outputs": [
    {
     "name": "stdout",
     "output_type": "stream",
     "text": [
      "['Title', 'Creator', 'Contributors', 'Date', 'Approximate Date', 'Source', 'Subject', 'Local Subject', 'S.C. County', 'Description', 'Extent', 'Digital Collection', 'Website', 'Contributing Institution', 'Rights', 'Time Period', 'Geographic Location', 'Language', 'Digitization Specifications', 'Date Digital', 'Type', 'Format', 'Media Type', 'Identifier', 'Note', 'Digital Assistant', 'Transcript', 'OCLC number', 'Date created', 'Date modified', 'Reference URL', 'CONTENTdm number', 'CONTENTdm file name', 'CONTENTdm file path'] \n",
      "\n"
     ]
    }
   ],
   "source": [
    "# Load motified metadata & print it's fields\n",
    "mccray_modified = pd.read_excel(Paths.mccray_modified_metadata)\n",
    "print(list(mccray), \"\\n\")\n"
   ]
  },
  {
   "cell_type": "code",
   "execution_count": 4,
   "id": "7bb3c5fd",
   "metadata": {},
   "outputs": [
    {
     "name": "stdout",
     "output_type": "stream",
     "text": [
      "New fields: ['Year']\n"
     ]
    }
   ],
   "source": [
    "# Create list that contains the fields that are in the motified data that were not in the OG\n",
    "new_fields = list()\n",
    "for field in mccray_modified:\n",
    "    if mccray.get(field) is None: \n",
    "        new_fields.append(field)\n",
    "\n",
    "print(f\"New fields: {new_fields}\")"
   ]
  },
  {
   "cell_type": "code",
   "execution_count": null,
   "id": "55d2cf8e",
   "metadata": {},
   "outputs": [],
   "source": []
  }
 ],
 "metadata": {
  "kernelspec": {
   "display_name": "Python (venv_aspire)",
   "language": "python",
   "name": "venv_aspire"
  },
  "language_info": {
   "codemirror_mode": {
    "name": "ipython",
    "version": 3
   },
   "file_extension": ".py",
   "mimetype": "text/x-python",
   "name": "python",
   "nbconvert_exporter": "python",
   "pygments_lexer": "ipython3",
   "version": "3.12.3"
  }
 },
 "nbformat": 4,
 "nbformat_minor": 5
}
