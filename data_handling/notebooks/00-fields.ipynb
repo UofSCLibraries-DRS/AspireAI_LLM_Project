{
 "cells": [
  {
   "cell_type": "markdown",
   "id": "b2a5d9e1",
   "metadata": {},
   "source": [
    "# Creating additional metadata fields "
   ]
  },
  {
   "cell_type": "code",
   "execution_count": 2,
   "id": "17f63962",
   "metadata": {},
   "outputs": [],
   "source": [
    "import pandas as pd\n",
    "import re\n",
    "from utils.constants import Paths"
   ]
  },
  {
   "cell_type": "code",
   "execution_count": 3,
   "id": "071d2e29",
   "metadata": {},
   "outputs": [
    {
     "name": "stdout",
     "output_type": "stream",
     "text": [
      "['Title', 'Creator', 'Contributors', 'Date', 'Approximate Date', 'Source', 'Subject', 'Local Subject', 'S.C. County', 'Description', 'Extent', 'Digital Collection', 'Website', 'Contributing Institution', 'Rights', 'Time Period', 'Geographic Location', 'Language', 'Digitization Specifications', 'Date Digital', 'Type', 'Format', 'Media Type', 'Identifier', 'Note', 'Digital Assistant', 'Transcript', 'OCLC number', 'Date created', 'Date modified', 'Reference URL', 'CONTENTdm number', 'CONTENTdm file name', 'CONTENTdm file path']\n"
     ]
    }
   ],
   "source": [
    "# Fetch original mccray meatadata\n",
    "mccray = pd.read_excel(Paths.mccray_original_metadata)\n",
    "print(list(mccray))"
   ]
  },
  {
   "cell_type": "code",
   "execution_count": 20,
   "id": "d0f67241",
   "metadata": {},
   "outputs": [],
   "source": [
    "# Add 'Year' field\n",
    "mccray['Year'] = mccray['Date']\n",
    "mccray['Year'] = mccray['Year'].apply(lambda x: str(x))\n",
    "mccray['Year'] = mccray['Year'].apply(lambda x: re.sub(r'[^0-9]+', \"\", x))\n",
    "mccray['Year'] = mccray['Year'].apply(lambda x: x[:4])"
   ]
  },
  {
   "cell_type": "code",
   "execution_count": 21,
   "id": "5cb6d387",
   "metadata": {},
   "outputs": [],
   "source": [
    "# Add ..."
   ]
  },
  {
   "cell_type": "code",
   "execution_count": 22,
   "id": "f4b5dd55",
   "metadata": {},
   "outputs": [],
   "source": [
    "# Save as McCray+ in changed data folder\n",
    "mccray.to_excel(Paths.mccray_modified_metadata, index=False)"
   ]
  },
  {
   "cell_type": "code",
   "execution_count": null,
   "id": "5f467a8a",
   "metadata": {},
   "outputs": [],
   "source": []
  }
 ],
 "metadata": {
  "kernelspec": {
   "display_name": "Python (venv_aspire)",
   "language": "python",
   "name": "venv_aspire"
  },
  "language_info": {
   "codemirror_mode": {
    "name": "ipython",
    "version": 3
   },
   "file_extension": ".py",
   "mimetype": "text/x-python",
   "name": "python",
   "nbconvert_exporter": "python",
   "pygments_lexer": "ipython3",
   "version": "3.12.3"
  }
 },
 "nbformat": 4,
 "nbformat_minor": 5
}
