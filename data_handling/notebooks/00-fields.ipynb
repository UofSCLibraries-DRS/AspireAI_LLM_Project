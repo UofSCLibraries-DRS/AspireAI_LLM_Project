{
 "cells": [
  {
   "cell_type": "markdown",
   "id": "b2a5d9e1",
   "metadata": {},
   "source": [
    "# Creating additional metadata fields "
   ]
  },
  {
   "cell_type": "code",
   "execution_count": 4,
   "id": "17f63962",
   "metadata": {},
   "outputs": [],
   "source": [
    "import pandas as pd\n",
    "import re\n",
    "from utils.constants import Paths"
   ]
  },
  {
   "cell_type": "code",
   "execution_count": 5,
   "id": "071d2e29",
   "metadata": {},
   "outputs": [
    {
     "ename": "AttributeError",
     "evalue": "type object 'Paths' has no attribute 'mccray_original_metadata'",
     "output_type": "error",
     "traceback": [
      "\u001b[31m---------------------------------------------------------------------------\u001b[39m",
      "\u001b[31mAttributeError\u001b[39m                            Traceback (most recent call last)",
      "\u001b[36mCell\u001b[39m\u001b[36m \u001b[39m\u001b[32mIn[5]\u001b[39m\u001b[32m, line 2\u001b[39m\n\u001b[32m      1\u001b[39m \u001b[38;5;66;03m# Fetch original mccray meatadata\u001b[39;00m\n\u001b[32m----> \u001b[39m\u001b[32m2\u001b[39m mccray = pd.read_excel(\u001b[43mPaths\u001b[49m\u001b[43m.\u001b[49m\u001b[43mmccray_original_metadata\u001b[49m)\n",
      "\u001b[31mAttributeError\u001b[39m: type object 'Paths' has no attribute 'mccray_original_metadata'"
     ]
    }
   ],
   "source": [
    "# Fetch original mccray meatadata\n",
    "mccray = pd.read_excel(Paths.mccray_original_metadata)"
   ]
  },
  {
   "cell_type": "code",
   "execution_count": 16,
   "id": "d0f67241",
   "metadata": {},
   "outputs": [],
   "source": [
    "# Add 'Year' field\n",
    "mccray['Year'] = mccray['Date']\n",
    "mccray['Year'] = mccray['Year'].apply(lambda x: str(x))\n",
    "mccray['Year'] = mccray['Year'].apply(lambda x: re.sub(r'[^0-9]+', \"\", x))\n",
    "mccray['Year'] = mccray['Year'].apply(lambda x: x[:4])"
   ]
  },
  {
   "cell_type": "code",
   "execution_count": null,
   "id": "5cb6d387",
   "metadata": {},
   "outputs": [],
   "source": [
    "# Add ..."
   ]
  },
  {
   "cell_type": "code",
   "execution_count": null,
   "id": "f4b5dd55",
   "metadata": {},
   "outputs": [],
   "source": [
    "# Save as McCray+ in changed data folder\n",
    "mccray.to_excel(Paths.mccray_modified_metadata, index=False)"
   ]
  }
 ],
 "metadata": {
  "kernelspec": {
   "display_name": "Python (venv_aspire)",
   "language": "python",
   "name": "venv_aspire"
  },
  "language_info": {
   "codemirror_mode": {
    "name": "ipython",
    "version": 3
   },
   "file_extension": ".py",
   "mimetype": "text/x-python",
   "name": "python",
   "nbconvert_exporter": "python",
   "pygments_lexer": "ipython3",
   "version": "3.12.3"
  }
 },
 "nbformat": 4,
 "nbformat_minor": 5
}
