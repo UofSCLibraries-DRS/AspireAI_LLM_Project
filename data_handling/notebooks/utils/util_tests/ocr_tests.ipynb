{
 "cells": [
  {
   "cell_type": "markdown",
   "id": "c14239c3",
   "metadata": {},
   "source": [
    "# Testing of OCR class functions from util"
   ]
  },
  {
   "cell_type": "code",
   "execution_count": 4,
   "id": "27199bbb",
   "metadata": {},
   "outputs": [],
   "source": [
    "# Python Imports\n",
    "import re\n",
    "\n",
    "import sys, os\n",
    "sys.path.append(os.path.abspath(os.path.join(os.getcwd(), '..', '..')))\n",
    "\n",
    "# Module/Class imports\n",
    "from utils.ocr_cleaning import OCR_Clean"
   ]
  },
  {
   "cell_type": "code",
   "execution_count": null,
   "id": "4cbe0e14",
   "metadata": {},
   "outputs": [
    {
     "name": "stdout",
     "output_type": "stream",
     "text": [
      "Unclean: [***** ___ Hello_____________, today we are____test________ing our OCR______class for cl_________eaning _______ text.***************Spider—man]\n",
      "Cleaned: [    Hello , today we are test ing our OCR class for cl eaning   text. Spider-man]\n"
     ]
    }
   ],
   "source": [
    "# Testing removal of many underscores\n",
    "\n",
    "unclean_text = \"***** ___ Hello________, today we are____test________ing our OCR______cleaning___module for cl_________eaning _______ text.***************Spider—man is the best.\"\n",
    "pattern = OCR_Clean.compile()\n",
    "cleaned_text = OCR_Clean.clean_ocr_text(unclean_text , pattern)\n",
    "\n",
    "print(f\"Unclean: [{unclean_text}]\")\n",
    "print(f\"Cleaned: [{cleaned_text}]\")"
   ]
  },
  {
   "cell_type": "code",
   "execution_count": null,
   "id": "4fe85927",
   "metadata": {},
   "outputs": [],
   "source": []
  },
  {
   "cell_type": "code",
   "execution_count": null,
   "id": "9bcce01a",
   "metadata": {},
   "outputs": [],
   "source": []
  }
 ],
 "metadata": {
  "kernelspec": {
   "display_name": "Python (venv_aspire)",
   "language": "python",
   "name": "venv_aspire"
  },
  "language_info": {
   "codemirror_mode": {
    "name": "ipython",
    "version": 3
   },
   "file_extension": ".py",
   "mimetype": "text/x-python",
   "name": "python",
   "nbconvert_exporter": "python",
   "pygments_lexer": "ipython3",
   "version": "3.12.3"
  }
 },
 "nbformat": 4,
 "nbformat_minor": 5
}
