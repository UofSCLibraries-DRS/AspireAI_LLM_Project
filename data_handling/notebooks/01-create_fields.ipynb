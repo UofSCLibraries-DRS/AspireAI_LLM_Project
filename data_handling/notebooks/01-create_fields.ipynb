{
 "cells": [
  {
   "cell_type": "markdown",
   "id": "b2a5d9e1",
   "metadata": {},
   "source": [
    "# Creating additional metadata fields "
   ]
  },
  {
   "cell_type": "code",
   "execution_count": 6,
   "id": "17f63962",
   "metadata": {},
   "outputs": [],
   "source": [
    "import pandas as pd\n",
    "\n",
    "import sys, os\n",
    "sys.path.append(os.path.abspath(os.path.join(os.getcwd(), '..'))) # required to import from seperate folder..... ANNOYING!\n",
    "\n",
    "from utils.ocr_cleaning import OCR_Clean"
   ]
  },
  {
   "cell_type": "code",
   "execution_count": 7,
   "id": "d0f67241",
   "metadata": {},
   "outputs": [
    {
     "name": "stdout",
     "output_type": "stream",
     "text": [
      "cheese cheese\n"
     ]
    }
   ],
   "source": [
    "OCR_Clean.cheese()"
   ]
  },
  {
   "cell_type": "code",
   "execution_count": null,
   "id": "f4b5dd55",
   "metadata": {},
   "outputs": [],
   "source": []
  }
 ],
 "metadata": {
  "kernelspec": {
   "display_name": "Python (venv_aspire)",
   "language": "python",
   "name": "venv_aspire"
  },
  "language_info": {
   "codemirror_mode": {
    "name": "ipython",
    "version": 3
   },
   "file_extension": ".py",
   "mimetype": "text/x-python",
   "name": "python",
   "nbconvert_exporter": "python",
   "pygments_lexer": "ipython3",
   "version": "3.12.3"
  }
 },
 "nbformat": 4,
 "nbformat_minor": 5
}
