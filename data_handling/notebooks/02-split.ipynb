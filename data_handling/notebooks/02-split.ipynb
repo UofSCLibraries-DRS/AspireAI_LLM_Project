{
 "cells": [
  {
   "cell_type": "markdown",
   "id": "b5fb1682",
   "metadata": {},
   "source": [
    "# "
   ]
  },
  {
   "cell_type": "markdown",
   "id": "f1614f24",
   "metadata": {},
   "source": [
    "# Metadata split (transcript length)"
   ]
  },
  {
   "cell_type": "code",
   "execution_count": null,
   "id": "cbb2f4d1",
   "metadata": {},
   "outputs": [],
   "source": [
    "import pandas as pd\n",
    "import re\n",
    "from utils.nb_metrics import Metrics\n",
    "from utils.constants import Paths\n",
    "from utils.ocr_cleaning import OCR_Check"
   ]
  },
  {
   "cell_type": "code",
   "execution_count": null,
   "id": "2d2a4ee6",
   "metadata": {},
   "outputs": [],
   "source": [
    "mccray = pd.read_excel(Paths.mccray_modified_metadata)\n",
    "print(list(mccray))\n",
    "mccray[['Title']]"
   ]
  },
  {
   "cell_type": "code",
   "execution_count": null,
   "id": "02b58ce7",
   "metadata": {},
   "outputs": [],
   "source": [
    "# Replace empty with na\n",
    "print(mccray.iloc[512]['Transcript'])\n",
    "mccray['Transcript'] = mccray['Transcript'].fillna('').apply(lambda x: x.strip() if isinstance(x, str) else '')\n",
    "print(mccray.iloc[512]['Transcript']) \n",
    "mccray[['Transcript']]"
   ]
  },
  {
   "cell_type": "code",
   "execution_count": null,
   "id": "497d1794",
   "metadata": {},
   "outputs": [],
   "source": [
    "# Create 'no_transcripts'\n",
    "mccray_no_transcripts = mccray[mccray['Transcript'] == \"\"]\n",
    "\n",
    "# Update mccray to have only transcripts\n",
    "mccray = mccray[(mccray['Transcript'] != \"\")]\n",
    "\n",
    "# Create mccray subsets with subsets transcript length <=5 char and <=20 char\n",
    "mccray_five_char = mccray[(mccray['Transcript'].str.len()) <= 5] \n",
    "mccray_twenty_char = mccray[((mccray['Transcript'].str.len()) > 5) & ((mccray['Transcript'].str.len()) <= 20)] \n",
    "\n",
    "# Update mccray to only have transcripts >20 char \n",
    "mccray = mccray[(mccray['Transcript'].str.len()) > 20] \n",
    "\n",
    "# Print <= 5 char transcripts\n",
    "mccray_five_char[['Transcript']]"
   ]
  },
  {
   "cell_type": "code",
   "execution_count": null,
   "id": "260655cd",
   "metadata": {},
   "outputs": [],
   "source": [
    "# Metric Collection of split groups (helper func from util class)\n",
    "\n",
    "print(\"with transcript\")\n",
    "sum1 = Metrics.df_type_counts(mccray)\n",
    "\n",
    "print(\"transcript <= five chars\")\n",
    "sum2 = Metrics.df_type_counts(mccray_five_char)\n",
    "\n",
    "print(\"transcript <= twenty chars\")\n",
    "sum3 = Metrics.df_type_counts(mccray_twenty_char)\n",
    "\n",
    "print(\"without transcript (0 char)\")\n",
    "sum4 = Metrics.df_type_counts(mccray_no_transcripts)\n",
    "\n",
    "print(f\"Total row count: {sum1+sum2+sum3+sum4}\")\n"
   ]
  },
  {
   "cell_type": "code",
   "execution_count": null,
   "id": "c314e489",
   "metadata": {},
   "outputs": [],
   "source": [
    "# Print <=20 char transcripts\n",
    "mccray_twenty_char[['Transcript']]"
   ]
  },
  {
   "cell_type": "code",
   "execution_count": null,
   "id": "b45487ae",
   "metadata": {},
   "outputs": [],
   "source": [
    "# Print <=20 char transcripts\n",
    "mccray[['Transcript']]"
   ]
  },
  {
   "cell_type": "code",
   "execution_count": null,
   "id": "6ed8302a",
   "metadata": {},
   "outputs": [],
   "source": [
    "# New step for transcript only, messy score is defined more strictly than the messy char counter (may use more strict char sequences on messy sequences as well later)\n",
    "# mccray['messy_score'] = mccray['Transcript'].apply(OCR_Check.is_messy_score)"
   ]
  },
  {
   "cell_type": "code",
   "execution_count": null,
   "id": "ae7f7277",
   "metadata": {},
   "outputs": [],
   "source": [
    "folder = Paths.mccray_folder + r'changed_data/trscp_subsets/'\n",
    "mccray.to_excel(folder + r'McCray (with transcripts).xlsx', index=False)\n",
    "# mccray_no_transcripts.to_excel(folder + r'McCray (no transcripts).xlsx', index=False)\n",
    "# mccray_five_char.to_excel(folder + r'McCray (less than 5 letter transcripts).xlsx', index=False)\n",
    "# mccray_twenty_char.to_excel(folder + r'McCray (less than 20 letter transcripts).xlsx', index=False)"
   ]
  },
  {
   "cell_type": "code",
   "execution_count": null,
   "id": "9faf7dfd",
   "metadata": {},
   "outputs": [],
   "source": []
  }
 ],
 "metadata": {
  "kernelspec": {
   "display_name": "Python (venv_aspire)",
   "language": "python",
   "name": "venv_aspire"
  },
  "language_info": {
   "codemirror_mode": {
    "name": "ipython",
    "version": 3
   },
   "file_extension": ".py",
   "mimetype": "text/x-python",
   "name": "python",
   "nbconvert_exporter": "python",
   "pygments_lexer": "ipython3",
   "version": "3.12.3"
  }
 },
 "nbformat": 4,
 "nbformat_minor": 5
}
