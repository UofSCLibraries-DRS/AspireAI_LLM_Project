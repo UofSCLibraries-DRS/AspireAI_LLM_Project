{
 "cells": [
  {
   "cell_type": "markdown",
   "id": "b5fb1682",
   "metadata": {},
   "source": [
    "# "
   ]
  },
  {
   "cell_type": "markdown",
   "id": "f1614f24",
   "metadata": {},
   "source": [
    "# Metadata split (transcript length)"
   ]
  },
  {
   "cell_type": "code",
   "execution_count": 2,
   "id": "cbb2f4d1",
   "metadata": {},
   "outputs": [],
   "source": [
    "import pandas as pd\n",
    "import re\n",
    "from utils.nb_metrics import Metrics\n",
    "from utils.constants import Paths\n",
    "from utils.ocr_cleaning import OCR_Check"
   ]
  },
  {
   "cell_type": "code",
   "execution_count": 3,
   "id": "2d2a4ee6",
   "metadata": {},
   "outputs": [
    {
     "name": "stdout",
     "output_type": "stream",
     "text": [
      "['Title', 'Creator', 'Contributors', 'Date', 'Approximate Date', 'Source', 'Subject', 'Local Subject', 'S.C. County', 'Description', 'Extent', 'Digital Collection', 'Website', 'Contributing Institution', 'Rights', 'Time Period', 'Geographic Location', 'Language', 'Digitization Specifications', 'Date Digital', 'Type', 'Format', 'Media Type', 'Identifier', 'Note', 'Digital Assistant', 'Transcript', 'OCLC number', 'Date created', 'Date modified', 'Reference URL', 'CONTENTdm number', 'CONTENTdm file name', 'CONTENTdm file path', 'Year', 'messy_sequences', 'messy_count', 'has_messy', 'total_messy_chars', 'special_messy_sequences', 'special_messy_count', 'has_special_messy', 'total_special_messy_chars', 'repeat_sequences', 'repeat_sequence_count', 'has_repeat_sequence', 'any_messy']\n"
     ]
    },
    {
     "data": {
      "text/html": [
       "<div>\n",
       "<style scoped>\n",
       "    .dataframe tbody tr th:only-of-type {\n",
       "        vertical-align: middle;\n",
       "    }\n",
       "\n",
       "    .dataframe tbody tr th {\n",
       "        vertical-align: top;\n",
       "    }\n",
       "\n",
       "    .dataframe thead th {\n",
       "        text-align: right;\n",
       "    }\n",
       "</style>\n",
       "<table border=\"1\" class=\"dataframe\">\n",
       "  <thead>\n",
       "    <tr style=\"text-align: right;\">\n",
       "      <th></th>\n",
       "      <th>Title</th>\n",
       "    </tr>\n",
       "  </thead>\n",
       "  <tbody>\n",
       "    <tr>\n",
       "      <th>0</th>\n",
       "      <td>Afro-American Newsboy Application signed by Mr...</td>\n",
       "    </tr>\n",
       "    <tr>\n",
       "      <th>1</th>\n",
       "      <td>Lighthouse Informer receipt</td>\n",
       "    </tr>\n",
       "    <tr>\n",
       "      <th>2</th>\n",
       "      <td>The Lighthouse Solicitor's Record, Home Office...</td>\n",
       "    </tr>\n",
       "    <tr>\n",
       "      <th>3</th>\n",
       "      <td>The Lighthouse Remittance Envelope(Back)</td>\n",
       "    </tr>\n",
       "    <tr>\n",
       "      <th>4</th>\n",
       "      <td>The Lighthouse Remittance Envelope(Front)</td>\n",
       "    </tr>\n",
       "    <tr>\n",
       "      <th>...</th>\n",
       "      <td>...</td>\n",
       "    </tr>\n",
       "    <tr>\n",
       "      <th>19324</th>\n",
       "      <td>Arthur Clement Family</td>\n",
       "    </tr>\n",
       "    <tr>\n",
       "      <th>19325</th>\n",
       "      <td>Law School Graduation Group Photograph</td>\n",
       "    </tr>\n",
       "    <tr>\n",
       "      <th>19326</th>\n",
       "      <td>Arthur Clement Family celebrating Law School g...</td>\n",
       "    </tr>\n",
       "    <tr>\n",
       "      <th>19327</th>\n",
       "      <td>Arthur Clement Family posing in Columbia, Sout...</td>\n",
       "    </tr>\n",
       "    <tr>\n",
       "      <th>19328</th>\n",
       "      <td>John Henry McCray Papers, Box 8, Folder 18, Ph...</td>\n",
       "    </tr>\n",
       "  </tbody>\n",
       "</table>\n",
       "<p>19329 rows × 1 columns</p>\n",
       "</div>"
      ],
      "text/plain": [
       "                                                   Title\n",
       "0      Afro-American Newsboy Application signed by Mr...\n",
       "1                            Lighthouse Informer receipt\n",
       "2      The Lighthouse Solicitor's Record, Home Office...\n",
       "3               The Lighthouse Remittance Envelope(Back)\n",
       "4              The Lighthouse Remittance Envelope(Front)\n",
       "...                                                  ...\n",
       "19324                              Arthur Clement Family\n",
       "19325             Law School Graduation Group Photograph\n",
       "19326  Arthur Clement Family celebrating Law School g...\n",
       "19327  Arthur Clement Family posing in Columbia, Sout...\n",
       "19328  John Henry McCray Papers, Box 8, Folder 18, Ph...\n",
       "\n",
       "[19329 rows x 1 columns]"
      ]
     },
     "execution_count": 3,
     "metadata": {},
     "output_type": "execute_result"
    }
   ],
   "source": [
    "mccray = pd.read_excel(Paths.mccray_modified_metadata)\n",
    "print(list(mccray))\n",
    "mccray[['Title']]"
   ]
  },
  {
   "cell_type": "code",
   "execution_count": null,
   "id": "02b58ce7",
   "metadata": {},
   "outputs": [],
   "source": [
    "# Replace empty with na\n",
    "print(mccray.iloc[512]['Transcript'])\n",
    "mccray['Transcript'] = mccray['Transcript'].fillna('').apply(lambda x: x.strip() if isinstance(x, str) else '')\n",
    "print(mccray.iloc[512]['Transcript']) \n",
    "mccray[['Transcript']]"
   ]
  },
  {
   "cell_type": "code",
   "execution_count": null,
   "id": "497d1794",
   "metadata": {},
   "outputs": [],
   "source": [
    "# Create 'no_transcripts'\n",
    "mccray_no_transcripts = mccray[mccray['Transcript'] == \"\"]\n",
    "\n",
    "# Update mccray to have only transcripts\n",
    "mccray = mccray[(mccray['Transcript'] != \"\")]\n",
    "\n",
    "# Create mccray subsets with subsets transcript length <=5 char and <=20 char\n",
    "mccray_five_char = mccray[(mccray['Transcript'].str.len()) <= 5] \n",
    "mccray_twenty_char = mccray[((mccray['Transcript'].str.len()) > 5) & ((mccray['Transcript'].str.len()) <= 20)] \n",
    "\n",
    "# Update mccray to only have transcripts >20 char \n",
    "mccray = mccray[(mccray['Transcript'].str.len()) > 20] \n",
    "\n",
    "# Print <= 5 char transcripts\n",
    "mccray_five_char[['Transcript']]"
   ]
  },
  {
   "cell_type": "code",
   "execution_count": null,
   "id": "260655cd",
   "metadata": {},
   "outputs": [],
   "source": [
    "# Metric Collection of split groups (helper func from util class)\n",
    "\n",
    "print(\"with transcript\")\n",
    "sum1 = Metrics.df_type_counts(mccray)\n",
    "\n",
    "print(\"transcript <= five chars\")\n",
    "sum2 = Metrics.df_type_counts(mccray_five_char)\n",
    "\n",
    "print(\"transcript <= twenty chars\")\n",
    "sum3 = Metrics.df_type_counts(mccray_twenty_char)\n",
    "\n",
    "print(\"without transcript (0 char)\")\n",
    "sum4 = Metrics.df_type_counts(mccray_no_transcripts)\n",
    "\n",
    "print(f\"Total row count: {sum1+sum2+sum3+sum4}\")\n"
   ]
  },
  {
   "cell_type": "code",
   "execution_count": null,
   "id": "c314e489",
   "metadata": {},
   "outputs": [],
   "source": [
    "# Print <=20 char transcripts\n",
    "mccray_twenty_char[['Transcript']]"
   ]
  },
  {
   "cell_type": "code",
   "execution_count": null,
   "id": "b45487ae",
   "metadata": {},
   "outputs": [],
   "source": [
    "# Print <=20 char transcripts\n",
    "mccray[['Transcript']]"
   ]
  },
  {
   "cell_type": "code",
   "execution_count": null,
   "id": "6ed8302a",
   "metadata": {},
   "outputs": [],
   "source": [
    "# New step for transcript only, messy score is defined more strictly than the messy char counter (may use more strict char sequences on messy sequences as well later)\n",
    "# mccray['messy_score'] = mccray['Transcript'].apply(OCR_Check.is_messy_score)"
   ]
  },
  {
   "cell_type": "code",
   "execution_count": null,
   "id": "ae7f7277",
   "metadata": {},
   "outputs": [],
   "source": [
    "folder = Paths.mccray_folder + r'changed_data/trscp_subsets/'\n",
    "mccray.to_excel(folder + r'McCray (with transcripts).xlsx', index=False)\n",
    "# mccray_no_transcripts.to_excel(folder + r'McCray (no transcripts).xlsx', index=False)\n",
    "# mccray_five_char.to_excel(folder + r'McCray (less than 5 letter transcripts).xlsx', index=False)\n",
    "# mccray_twenty_char.to_excel(folder + r'McCray (less than 20 letter transcripts).xlsx', index=False)"
   ]
  },
  {
   "cell_type": "code",
   "execution_count": null,
   "id": "9faf7dfd",
   "metadata": {},
   "outputs": [],
   "source": []
  }
 ],
 "metadata": {
  "kernelspec": {
   "display_name": "Python (venv_aspire)",
   "language": "python",
   "name": "venv_aspire"
  },
  "language_info": {
   "codemirror_mode": {
    "name": "ipython",
    "version": 3
   },
   "file_extension": ".py",
   "mimetype": "text/x-python",
   "name": "python",
   "nbconvert_exporter": "python",
   "pygments_lexer": "ipython3",
   "version": "3.12.3"
  }
 },
 "nbformat": 4,
 "nbformat_minor": 5
}
