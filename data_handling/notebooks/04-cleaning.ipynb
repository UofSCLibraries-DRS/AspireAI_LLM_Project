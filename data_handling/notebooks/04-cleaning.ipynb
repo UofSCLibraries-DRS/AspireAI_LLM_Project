{
 "cells": [
  {
   "cell_type": "markdown",
   "id": "963efe42",
   "metadata": {},
   "source": [
    "# Cleaning metadata\n",
    "### To be used with entire metadata or a subset"
   ]
  },
  {
   "cell_type": "markdown",
   "id": "38e2c439",
   "metadata": {},
   "source": []
  }
 ],
 "metadata": {
  "language_info": {
   "name": "python"
  }
 },
 "nbformat": 4,
 "nbformat_minor": 5
}
