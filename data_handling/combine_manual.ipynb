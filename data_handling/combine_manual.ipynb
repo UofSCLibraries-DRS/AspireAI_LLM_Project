{
 "cells": [
  {
   "cell_type": "code",
   "execution_count": 6,
   "id": "baec0e66",
   "metadata": {},
   "outputs": [],
   "source": [
    "# Combine manually cleaned transcripts into \"Clean Transcripts\" column\n",
    "## Replacing automated Cleaned Transcripts"
   ]
  },
  {
   "cell_type": "code",
   "execution_count": 7,
   "id": "02f41aa7",
   "metadata": {},
   "outputs": [],
   "source": [
    "import pandas as pd\n",
    "import numpy as np"
   ]
  },
  {
   "cell_type": "code",
   "execution_count": 14,
   "id": "bb3d0d81",
   "metadata": {},
   "outputs": [
    {
     "name": "stdout",
     "output_type": "stream",
     "text": [
      "\n",
      "Main CSV columns: ['Unnamed: 0.1', 'Unnamed: 0', 'Title', 'Creator', 'Description', 'Reference URL', 'Year', 'Original Transcript', 'Semi-clean Transcript', 'Corrections', 'Clean Transcript']\n",
      "Excel file columns: ['Subset Index', 'Original Index', 'Title', 'Creator', 'Contributors', 'Date', 'Approximate Date', 'Source', 'Subject', 'Local Subject', 'S.C. County', 'Description', 'Extent', 'Digital Collection', 'Website', 'Contributing Institution', 'Rights', 'Time Period', 'Geographic Location', 'Language', 'Digitization Specifications', 'Date Digital', 'Type', 'Format', 'Media Type', 'Identifier', 'Note', 'Digital Assistant', 'Clean Transcript', 'OCLC number', 'Date created', 'Date modified', 'Reference URL', 'CONTENTdm number', 'CONTENTdm file name', 'CONTENTdm file path', 'Year', 'corrected_transcript']\n",
      "\n",
      "Found 101 manual transcripts in Excel file\n",
      "Creating mapping based on 'Title' column...\n",
      "Created mapping for 101 titles\n",
      "Creating mapping based on 'Title' column...\n",
      "Created mapping for 97 titles\n",
      "Updating main dataset with manual transcripts...\n",
      "  Updated 10 records...\n",
      "  Updated 20 records...\n",
      "  Updated 30 records...\n",
      "  Updated 40 records...\n",
      "  Updated 50 records...\n",
      "  Updated 60 records...\n",
      "  Updated 70 records...\n",
      "  Updated 80 records...\n",
      "  Updated 90 records...\n",
      "  Updated 100 records...\n",
      "  Updated 110 records...\n",
      "  Updated 120 records...\n",
      "  Updated 130 records...\n",
      "Successfully updated 138 records with manual transcripts\n"
     ]
    }
   ],
   "source": [
    "\n",
    "# File paths - UPDATE THESE WITH ACTUAL FILE PATHS\n",
    "main_csv_file = \"/home/steven-dindl/Downloads/McCray+ (test1).csv\"\n",
    "excel_file = \"/home/steven-dindl/Downloads/McCray (1940s, 100 transcript subset)(1).xlsx\"\n",
    "\n",
    "output_file = \"output-data/full dataset w manual fixes.csv\"  \n",
    "\n",
    "# Read the files\n",
    "main_df = pd.read_csv(main_csv_file)\n",
    "excel_df = pd.read_excel(excel_file)\n",
    "\n",
    "# Check if required columns exist\n",
    "if 'Clean Transcript' not in main_df.columns:\n",
    "    print(\"Warning: 'Clean Transcripts' column not found in main CSV. Creating new column.\")\n",
    "    main_df['Clean Transcripts'] = ''\n",
    "\n",
    "if 'Clean Transcript' not in excel_df.columns:\n",
    "    raise ValueError(\"'Clean Transcripts' column not found in Excel file\")\n",
    "\n",
    "if 'Title' not in main_df.columns:\n",
    "    raise ValueError(\"'title' column not found in main CSV file\")\n",
    "\n",
    "if 'Title' not in excel_df.columns:\n",
    "    raise ValueError(\"'Title' column not found in Excel file\")\n",
    "\n",
    "# Display column information\n",
    "print(f\"\\nMain CSV columns: {list(main_df.columns)}\")\n",
    "print(f\"Excel file columns: {list(excel_df.columns)}\")\n",
    "\n",
    "# Count non-empty manual transcripts\n",
    "manual_count = excel_df['Clean Transcript'].notna().sum()\n",
    "print(f\"\\nFound {manual_count} manual transcripts in Excel file\")\n",
    "\n",
    "# Create a mapping from Excel file using title as the key\n",
    "print(\"Creating mapping based on 'Title' column...\")\n",
    "manual_mapping = excel_df.set_index('Title')['Clean Transcript'].dropna()\n",
    "print(f\"Created mapping for {len(manual_mapping)} titles\")\n",
    "\n",
    "# Create a mapping from Excel file using Title as the key\n",
    "print(\"Creating mapping based on 'Title' column...\")\n",
    "# Filter out rows with NaN titles and transcripts first\n",
    "excel_clean = excel_df.dropna(subset=['Title', 'Clean Transcript'])\n",
    "# Convert titles to strings to avoid indexing issues\n",
    "manual_mapping = dict(zip(excel_clean['Title'].astype(str), excel_clean['Clean Transcript']))\n",
    "print(f\"Created mapping for {len(manual_mapping)} titles\")\n",
    "\n",
    "# Update main dataframe with manual transcripts\n",
    "print(\"Updating main dataset with manual transcripts...\")\n",
    "updated_count = 0\n",
    "for idx, row in main_df.iterrows():\n",
    "    title = row['Title']\n",
    "    if pd.notna(title) and title in manual_mapping:\n",
    "        main_df.loc[idx, 'Clean Transcript'] = manual_mapping[title]\n",
    "        updated_count += 1\n",
    "        if updated_count % 10 == 0:  # Progress indicator\n",
    "            print(f\"  Updated {updated_count} records...\")\n",
    "\n",
    "print(f\"Successfully updated {updated_count} records with manual transcripts\")"
   ]
  },
  {
   "cell_type": "code",
   "execution_count": null,
   "id": "2c07bf6f",
   "metadata": {},
   "outputs": [],
   "source": [
    "\n",
    "# Display summary statistics\n",
    "total_records = len(main_df)\n",
    "total_transcripts = main_df['Clean Transcripts'].notna().sum()\n",
    "empty_transcripts = (main_df['Clean Transcripts'].isna() | \n",
    "                    (main_df['Clean Transcripts'] == '')).sum()\n",
    "\n",
    "print(f\"\\nSummary:\")\n",
    "print(f\"Total records in main dataset: {total_records}\")\n",
    "print(f\"Records with transcripts: {total_transcripts}\")\n",
    "print(f\"Records with empty transcripts: {empty_transcripts}\")\n",
    "print(f\"Records updated with manual transcripts: {updated_count}\")\n",
    "\n",
    "# Show some examples of updated transcripts\n",
    "print(f\"\\nSample of updated transcripts:\")\n",
    "updated_mask = main_df['title'].isin(manual_mapping.index)\n",
    "sample_updated = main_df[updated_mask][['title', 'Clean Transcripts']].head(3)\n",
    "for idx, row in sample_updated.iterrows():\n",
    "    print(f\"Title: {row['title']}\")\n",
    "    print(f\"Transcript: {row['Clean Transcripts'][:100]}...\" if len(str(row['Clean Transcripts'])) > 100 else f\"Transcript: {row['Clean Transcripts']}\")\n",
    "    print(\"-\" * 50)\n",
    "\n",
    "# Check for titles in Excel that weren't found in main CSV\n",
    "excel_titles = set(excel_df['title'].dropna())\n",
    "main_titles = set(main_df['title'].dropna())\n",
    "missing_titles = excel_titles - main_titles\n",
    "\n",
    "if missing_titles:\n",
    "    print(f\"\\nWarning: {len(missing_titles)} titles from Excel file were not found in main CSV:\")\n",
    "    for title in list(missing_titles)[:5]:  # Show first 5\n",
    "        print(f\"  - {title}\")\n",
    "    if len(missing_titles) > 5:\n",
    "        print(f\"  ... and {len(missing_titles) - 5} more\")"
   ]
  },
  {
   "cell_type": "code",
   "execution_count": 16,
   "id": "07daea90",
   "metadata": {},
   "outputs": [
    {
     "name": "stdout",
     "output_type": "stream",
     "text": [
      "\n",
      "Saving updated dataset...\n",
      "Updated file saved as: output-data/full dataset w manual fixes.csv\n",
      "\n",
      "Final verification:\n",
      "Original automated transcripts have been replaced with manual transcripts for 138 records\n",
      "File saved successfully to: output-data/full dataset w manual fixes.csv\n"
     ]
    }
   ],
   "source": [
    "\n",
    "# Save the updated dataframe\n",
    "print(f\"\\nSaving updated dataset...\")\n",
    "main_df.to_csv(output_file, index=False)\n",
    "print(f\"Updated file saved as: {output_file}\")\n",
    "\n",
    "# Final verification\n",
    "print(f\"\\nFinal verification:\")\n",
    "print(f\"Original automated transcripts have been replaced with manual transcripts for {updated_count} records\")\n",
    "print(f\"File saved successfully to: {output_file}\")"
   ]
  },
  {
   "cell_type": "code",
   "execution_count": null,
   "id": "5ffe92cd",
   "metadata": {},
   "outputs": [],
   "source": []
  }
 ],
 "metadata": {
  "kernelspec": {
   "display_name": "Python (venv_aspire)",
   "language": "python",
   "name": "venv_aspire"
  },
  "language_info": {
   "codemirror_mode": {
    "name": "ipython",
    "version": 3
   },
   "file_extension": ".py",
   "mimetype": "text/x-python",
   "name": "python",
   "nbconvert_exporter": "python",
   "pygments_lexer": "ipython3",
   "version": "3.12.3"
  }
 },
 "nbformat": 4,
 "nbformat_minor": 5
}
